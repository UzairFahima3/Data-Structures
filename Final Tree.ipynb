{
 "cells": [
  {
   "cell_type": "code",
   "execution_count": 1,
   "metadata": {},
   "outputs": [],
   "source": [
    "class Tree:\n",
    "    def __init__(self,val):\n",
    "        self.val = val\n",
    "        self.left = None\n",
    "        self.right = None\n",
    "        \n",
    "        \n",
    "    def bfs(self):\n",
    "        if self is None:\n",
    "            return None\n",
    "        \n",
    "        l = []\n",
    "        l.append(self)\n",
    "        \n",
    "        while l:\n",
    "            \n",
    "            current = l.pop(0)\n",
    "            print(curren.val)\n",
    "            \n",
    "            if current.left:\n",
    "                l.append(current.left)\n",
    "            \n",
    "            if current.right:\n",
    "                l.append(current.right)\n",
    "                \n",
    "            \n",
    "        \n",
    "    def inorder(self):\n",
    "\n",
    "        if self.left:\n",
    "            self.left.inorder()\n",
    "        \n",
    "        print(self.val)\n",
    "            \n",
    "        if self.right:\n",
    "            self.right.inorder()\n",
    "            \n",
    "    def preorder(self):\n",
    "        \n",
    "        print (self.val)\n",
    "        \n",
    "        if self.left:\n",
    "            self.left.preorder()\n",
    "            \n",
    "        if self.right:\n",
    "            self.right.preorder()\n",
    "        \n",
    "    def postorder(self):\n",
    "        \n",
    "        if self.left:\n",
    "            self.left.postorder()\n",
    "            \n",
    "        if self.right:\n",
    "            self.right.postorder()\n",
    "            \n",
    "        print(self.val)\n",
    "            "
   ]
  },
  {
   "cell_type": "code",
   "execution_count": 2,
   "metadata": {},
   "outputs": [],
   "source": [
    "def print_tree(tree , level = 0 , label = \".\"):\n",
    "    print(\" \"*(level*2) + label + \":\",tree.val)\n",
    "    for child, lbl in zip([tree.left,tree.right],[\"L\", \"R\"]):\n",
    "        if child is not None:\n",
    "            print_tree(child,level+1,lbl)\n",
    "    return"
   ]
  },
  {
   "cell_type": "code",
   "execution_count": 3,
   "metadata": {},
   "outputs": [],
   "source": [
    "class BST(Tree):\n",
    "    def __init__(self, val, parent = None):\n",
    "        super().__init__(val)\n",
    "        self.parent = parent\n",
    "        \n",
    "    def insert(self,val):\n",
    "        if val < self.val:\n",
    "            if self.left is None:\n",
    "                self.left = BST(val, parent =  self)\n",
    "            else:\n",
    "                self.left.insert(val)\n",
    "                \n",
    "        else:\n",
    "            if self.right is None:\n",
    "                self.right = BST(val, parent =  self)\n",
    "            \n",
    "            else:\n",
    "                self.right.insert(val)\n",
    "                \n"
   ]
  },
  {
   "cell_type": "code",
   "execution_count": 4,
   "metadata": {},
   "outputs": [],
   "source": [
    "def count_nodes(self):\n",
    "    \n",
    "    node = 1\n",
    "    left = 0\n",
    "    right = 0\n",
    "    \n",
    "    if self.left:\n",
    "        left = self.left.count_nodes()\n",
    "        \n",
    "    if self.right:\n",
    "        right = self.right.count_nodes()\n",
    "        \n",
    "    return node + left +right\n",
    "Tree.count_nodes= count_nodes"
   ]
  },
  {
   "cell_type": "code",
   "execution_count": 5,
   "metadata": {},
   "outputs": [],
   "source": [
    "b = BST(20)\n",
    "b.insert(24)\n",
    "b.insert(34)\n",
    "b.insert(10)\n",
    "b.insert(1)\n",
    "b.insert(21)\n",
    "b.insert(26)\n",
    "\n"
   ]
  },
  {
   "cell_type": "code",
   "execution_count": 6,
   "metadata": {},
   "outputs": [
    {
     "data": {
      "text/plain": [
       "7"
      ]
     },
     "execution_count": 6,
     "metadata": {},
     "output_type": "execute_result"
    }
   ],
   "source": [
    "b.count_nodes()"
   ]
  },
  {
   "cell_type": "code",
   "execution_count": 7,
   "metadata": {},
   "outputs": [],
   "source": [
    "def max_height(self):\n",
    "    \n",
    "    if self is None:\n",
    "        return None\n",
    "    \n",
    "    node = 1\n",
    "    left = 0\n",
    "    right = 0\n",
    "    \n",
    "    if self.left:\n",
    "        left = self.left.max_height()\n",
    "        \n",
    "    if self.right:\n",
    "        right = self.right.max_height()\n",
    "        \n",
    "    return node + max(left,right)\n",
    "\n",
    "Tree.max_height = max_height"
   ]
  },
  {
   "cell_type": "code",
   "execution_count": 8,
   "metadata": {},
   "outputs": [
    {
     "data": {
      "text/plain": [
       "4"
      ]
     },
     "execution_count": 8,
     "metadata": {},
     "output_type": "execute_result"
    }
   ],
   "source": [
    "b.max_height()"
   ]
  },
  {
   "cell_type": "code",
   "execution_count": 9,
   "metadata": {},
   "outputs": [],
   "source": [
    "def BST_property(self):\n",
    "    \n",
    "    if self.left:\n",
    "        if self.left.val > self.val:\n",
    "            return False\n",
    "        self.left.BST_property()\n",
    "    \n",
    "    if self.right:\n",
    "        if self.right.val < self.val:\n",
    "            return False\n",
    "        self.right.BST_property()\n",
    "        \n",
    "Tree.BST_property = BST_property"
   ]
  },
  {
   "cell_type": "code",
   "execution_count": 10,
   "metadata": {},
   "outputs": [
    {
     "name": "stdout",
     "output_type": "stream",
     "text": [
      "None\n"
     ]
    }
   ],
   "source": [
    "print(b.BST_property())\n"
   ]
  },
  {
   "cell_type": "code",
   "execution_count": 11,
   "metadata": {},
   "outputs": [],
   "source": [
    "h = BST(8)"
   ]
  },
  {
   "cell_type": "code",
   "execution_count": 16,
   "metadata": {},
   "outputs": [],
   "source": [
    "h.insert(1)"
   ]
  },
  {
   "cell_type": "code",
   "execution_count": 17,
   "metadata": {},
   "outputs": [],
   "source": [
    "h.insert(12)"
   ]
  },
  {
   "cell_type": "code",
   "execution_count": 18,
   "metadata": {},
   "outputs": [],
   "source": [
    "h.insert(11)"
   ]
  },
  {
   "cell_type": "code",
   "execution_count": 19,
   "metadata": {},
   "outputs": [],
   "source": [
    "h.insert(9)"
   ]
  },
  {
   "cell_type": "code",
   "execution_count": 20,
   "metadata": {},
   "outputs": [],
   "source": [
    "h.insert(15)"
   ]
  },
  {
   "cell_type": "code",
   "execution_count": 25,
   "metadata": {},
   "outputs": [
    {
     "name": "stdout",
     "output_type": "stream",
     "text": [
      ".: 8\n",
      "  L: 1\n",
      "  R: 12\n",
      "    L: 11\n",
      "      L: 9\n",
      "    R: 15\n"
     ]
    }
   ],
   "source": [
    "print_tree(h)"
   ]
  },
  {
   "cell_type": "code",
   "execution_count": null,
   "metadata": {},
   "outputs": [],
   "source": []
  }
 ],
 "metadata": {
  "kernelspec": {
   "display_name": "Python 3",
   "language": "python",
   "name": "python3"
  },
  "language_info": {
   "codemirror_mode": {
    "name": "ipython",
    "version": 3
   },
   "file_extension": ".py",
   "mimetype": "text/x-python",
   "name": "python",
   "nbconvert_exporter": "python",
   "pygments_lexer": "ipython3",
   "version": "3.7.3"
  }
 },
 "nbformat": 4,
 "nbformat_minor": 2
}
