{
 "cells": [
  {
   "cell_type": "code",
   "execution_count": 32,
   "metadata": {},
   "outputs": [],
   "source": [
    "class weighted_graph:\n",
    "    def __init__(self):\n",
    "        self.g = {}\n",
    "        \n",
    "    def __str__(self):\n",
    "        return self.g\n",
    "    \n",
    "    def add_node(self,node):\n",
    "        if node in self.g:\n",
    "            return False\n",
    "        \n",
    "        self.g[node] = []\n",
    "        return True\n",
    "    \n",
    "    def add_edge(self,src,dst):  #weight):\n",
    "        if src not in self.g:\n",
    "            return False\n",
    "            print(\"Src not in Graph\")\n",
    "            \n",
    "        if dst not in self.g:\n",
    "            print(\"Dst not in Graph\")\n",
    "        self.g[src].append(dst)#,weight)\n",
    "        \n",
    "    def traverse(self,start):\n",
    "        \n",
    "        q = [start]\n",
    "        visited = []\n",
    "        \n",
    "        while q:\n",
    "            current = q.pop()\n",
    "            if current in visited:\n",
    "                continue\n",
    "                \n",
    "            visited.append(current)\n",
    "            \n",
    "            for node in self.g[current]:\n",
    "                q.append(node)\n",
    "                \n",
    "        return visited"
   ]
  },
  {
   "cell_type": "code",
   "execution_count": 33,
   "metadata": {},
   "outputs": [],
   "source": [
    "import pprint"
   ]
  },
  {
   "cell_type": "code",
   "execution_count": 34,
   "metadata": {},
   "outputs": [
    {
     "data": {
      "text/plain": [
       "True"
      ]
     },
     "execution_count": 34,
     "metadata": {},
     "output_type": "execute_result"
    }
   ],
   "source": [
    "g = weighted_graph()\n",
    "g.add_node(\"a\")\n",
    "g.add_node(\"b\")\n",
    "g.add_node(\"c\")\n",
    "g.add_node(\"d\")\n",
    "g.add_node(\"e\")\n",
    "g.add_node(\"f\")\n"
   ]
  },
  {
   "cell_type": "code",
   "execution_count": 35,
   "metadata": {},
   "outputs": [
    {
     "name": "stdout",
     "output_type": "stream",
     "text": [
      "{'a': [], 'b': [], 'c': [], 'd': [], 'e': [], 'f': []}\n"
     ]
    }
   ],
   "source": [
    "pprint.pprint(g.g)"
   ]
  },
  {
   "cell_type": "code",
   "execution_count": 36,
   "metadata": {},
   "outputs": [],
   "source": [
    "g.add_edge(\"a\",\"b\")\n",
    "g.add_edge(\"a\",\"c\")\n",
    "g.add_edge(\"b\",\"d\")\n",
    "g.add_edge(\"d\",\"e\")\n",
    "g.add_edge(\"e\",\"f\")\n",
    "g.add_edge(\"c\",\"f\")"
   ]
  },
  {
   "cell_type": "code",
   "execution_count": 37,
   "metadata": {},
   "outputs": [
    {
     "name": "stdout",
     "output_type": "stream",
     "text": [
      "{'a': ['b', 'c'], 'b': ['d'], 'c': ['f'], 'd': ['e'], 'e': ['f'], 'f': []}\n"
     ]
    }
   ],
   "source": [
    "pprint.pprint(g.g)"
   ]
  },
  {
   "cell_type": "code",
   "execution_count": 38,
   "metadata": {},
   "outputs": [
    {
     "data": {
      "text/plain": [
       "['a', 'c', 'f', 'b', 'd', 'e']"
      ]
     },
     "execution_count": 38,
     "metadata": {},
     "output_type": "execute_result"
    }
   ],
   "source": [
    "g.traverse(\"a\")"
   ]
  },
  {
   "cell_type": "code",
   "execution_count": 17,
   "metadata": {},
   "outputs": [],
   "source": [
    "def find_path(self,src,dst, path =[]):\n",
    "    \n",
    "    if src not in self.g:\n",
    "        raise ValueErro(\"Source Not in Graph\")\n",
    "    \n",
    "    path = path + [src]\n",
    "    \n",
    "    if src == dst:\n",
    "        return path\n",
    "    \n",
    "   # unvisited = self.g[src]\n",
    "    \n",
    "    for node in self.g[src]:\n",
    "        if node not in path:\n",
    "        \n",
    "            new_path = self.find_path(node,dst,path)\n",
    "            if new_path:\n",
    "                return new_path\n",
    "\n",
    "weighted_graph.find_path = find_path"
   ]
  },
  {
   "cell_type": "code",
   "execution_count": 8,
   "metadata": {},
   "outputs": [
    {
     "data": {
      "text/plain": [
       "['a', 'b', 'd', 'e', 'f']"
      ]
     },
     "execution_count": 8,
     "metadata": {},
     "output_type": "execute_result"
    }
   ],
   "source": [
    "g.find_path(\"a\",\"f\")"
   ]
  },
  {
   "cell_type": "code",
   "execution_count": 99,
   "metadata": {},
   "outputs": [],
   "source": [
    "def find_all_paths(self, src, dst, path = []):\n",
    "    if src not in self.g:\n",
    "        return IndexError(\"Source Node Does Not Exist \")\n",
    "        \n",
    "    if dst not in self.g:\n",
    "        return IndexError(\"Destination Node Does Not Exist \")\n",
    "    \n",
    "    all_paths = []\n",
    "    path = path + [src]\n",
    "    \n",
    "    if src == dst:\n",
    "        return [path]\n",
    "    \n",
    "    for node in self.g[src]:\n",
    "        \n",
    "        if node not in path:\n",
    "            \n",
    "            all_new_path = self.find_all_paths(node, dst, path)\n",
    "            \n",
    "            for new_path in all_new_path:\n",
    "                if new_path not in all_paths:\n",
    "                    all_paths.append(new_path)  \n",
    "                \n",
    "    return all_paths\n",
    "weighted_graph.find_all_paths = find_all_paths"
   ]
  },
  {
   "cell_type": "code",
   "execution_count": 100,
   "metadata": {},
   "outputs": [
    {
     "name": "stdout",
     "output_type": "stream",
     "text": [
      "[['a', 'b', 'd', 'e', 'f'], ['a', 'c', 'f']]\n"
     ]
    }
   ],
   "source": [
    "print(g.find_all_paths(\"a\",\"f\"))"
   ]
  },
  {
   "cell_type": "code",
   "execution_count": null,
   "metadata": {},
   "outputs": [],
   "source": []
  },
  {
   "cell_type": "code",
   "execution_count": 123,
   "metadata": {},
   "outputs": [],
   "source": [
    "def find_shortest_path(self,src,dst,path=[]):\n",
    "    \n",
    "    if src not in self.g:\n",
    "        raise IndexError(\"Src not in self.g\")\n",
    "        \n",
    "    path = path + [src]\n",
    "    \n",
    "    if src == dst :\n",
    "        return path\n",
    "    \n",
    "    shortest = None\n",
    "    \n",
    "    for node in self.g[src]:\n",
    "        if node not in path:\n",
    "            new_path = self.find_shortest_path(node,dst,path)\n",
    "            \n",
    "            if shortest is None or len(shortest) > len(new_path):\n",
    "                shortest = new_path\n",
    "    return shortest\n",
    "\n",
    "weighted_graph.find_shortest_path = find_shortest_path\n"
   ]
  },
  {
   "cell_type": "code",
   "execution_count": 124,
   "metadata": {},
   "outputs": [
    {
     "data": {
      "text/plain": [
       "['a', 'c', 'f']"
      ]
     },
     "execution_count": 124,
     "metadata": {},
     "output_type": "execute_result"
    }
   ],
   "source": [
    "g.find_shortest_path(\"a\",\"f\")"
   ]
  },
  {
   "cell_type": "code",
   "execution_count": null,
   "metadata": {},
   "outputs": [],
   "source": []
  }
 ],
 "metadata": {
  "kernelspec": {
   "display_name": "Python 3",
   "language": "python",
   "name": "python3"
  },
  "language_info": {
   "codemirror_mode": {
    "name": "ipython",
    "version": 3
   },
   "file_extension": ".py",
   "mimetype": "text/x-python",
   "name": "python",
   "nbconvert_exporter": "python",
   "pygments_lexer": "ipython3",
   "version": "3.7.3"
  }
 },
 "nbformat": 4,
 "nbformat_minor": 2
}
