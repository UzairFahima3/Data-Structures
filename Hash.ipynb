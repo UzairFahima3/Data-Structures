{
 "cells": [
  {
   "cell_type": "code",
   "execution_count": 4,
   "metadata": {},
   "outputs": [],
   "source": [
    "class HashMap:\n",
    "    def __init__(self):\n",
    "        self.size = 10\n",
    "        self.map = [None] * self.size\n",
    "    \n",
    "    def __str__(self):\n",
    "        \n",
    "        ret = ''\n",
    "        \n",
    "        for i,item in enumerate(self.map):\n",
    "            if item is not None:\n",
    "                ret += str(i) + \":\" + str(item) + \"\\n\"\n",
    "        return ret"
   ]
  },
  {
   "cell_type": "code",
   "execution_count": null,
   "metadata": {},
   "outputs": [],
   "source": []
  },
  {
   "cell_type": "code",
   "execution_count": 5,
   "metadata": {},
   "outputs": [],
   "source": [
    "def _get_hash(self,key):\n",
    "    if type(key) == int:\n",
    "        return key % self.size\n",
    "    \n",
    "    elif type(key) == str:\n",
    "        num = 0\n",
    "        for i in key:\n",
    "            num += ord(i)\n",
    "        return num % self.size\n",
    "    \n",
    "    elif type(key) == tuple or type(key) == list :\n",
    "        num = 0\n",
    "        for i in key:\n",
    "            num += self._get_hash(i)\n",
    "        return num\n",
    "    #else:\n",
    "     #   raise TypeError(\"Key Can be int , str and tuple\")\n",
    "    \n",
    "HashMap._get_hash = _get_hash"
   ]
  },
  {
   "cell_type": "code",
   "execution_count": 6,
   "metadata": {},
   "outputs": [],
   "source": [
    "def add (self, key, value) :\n",
    "    key_hash = self._get_hash(key)\n",
    "    key_value = [key,value]\n",
    "    \n",
    "    if self.map[key_hash] is None:\n",
    "        self.map[key_hash] = [key_value]\n",
    "        return True\n",
    "    else:\n",
    "        for pair in self.map[key_hash]:\n",
    "            if pair[0] == key:\n",
    "                print(\"--updating--\")\n",
    "                pair[1] = value\n",
    "                return True\n",
    "        \n",
    "        self.map[key_hash].append(key_value)\n",
    "        return True\n",
    "HashMap.add = add"
   ]
  },
  {
   "cell_type": "code",
   "execution_count": 7,
   "metadata": {},
   "outputs": [],
   "source": [
    "def get(self, key):\n",
    "    key_hash = self._get_hash(key)\n",
    "    if self.map[key_hash] is not None:\n",
    "        for pair in self.map[key_hash]:\n",
    "            if pair[0] == key:\n",
    "                return pair[1]\n",
    "    else:\n",
    "        raise IndexError(\"Key is not valid\")\n",
    "        \n",
    "HashMap.get = get"
   ]
  },
  {
   "cell_type": "code",
   "execution_count": 8,
   "metadata": {},
   "outputs": [],
   "source": [
    "def delete (self, key):\n",
    "    key_hash = self._get_hash(key)\n",
    "    if self.map[key_hash] is None:\n",
    "        raise IndexError(\"Key Not Found\")\n",
    "    \n",
    "    for i in range(0,len(self.map[key_hash])):\n",
    "        if self.map[key_hash][i][0] == key:\n",
    "            self.map[key_hash].pop(i)        \n",
    "            return True\n",
    "        \n",
    "HashMap.delete = delete"
   ]
  },
  {
   "cell_type": "code",
   "execution_count": 9,
   "metadata": {},
   "outputs": [
    {
     "name": "stdout",
     "output_type": "stream",
     "text": [
      "--updating--\n",
      "3:[[[1, 2], 'list']]\n",
      "6:[[26, 'twentysix updated.'], [(24, 2), 'tuple text']]\n",
      "7:[[17, 'seventeen'], [57, 'fiftyseven'], ['a', 'a'], ['blah', 'blah']]\n",
      "8:[[(1, 'a'), 'ninty eight']]\n",
      "\n"
     ]
    }
   ],
   "source": [
    "h = HashMap()\n",
    "h.add(17,\"seventeen\")\n",
    "h.add(26,\"twentysix\")\n",
    "h.add(57,\"fiftyseven\")\n",
    "h.add(26,\"twentysix updated.\")\n",
    "h.add(\"a\",\"a\")\n",
    "h.add((1,\"a\"),\"ninty eight\")\n",
    "h.add([1,2],\"list\")\n",
    "h.add(\"blah\",\"blah\")\n",
    "h.add((24,2),\"tuple text\")\n",
    "print(h)"
   ]
  },
  {
   "cell_type": "code",
   "execution_count": 10,
   "metadata": {},
   "outputs": [
    {
     "data": {
      "text/plain": [
       "True"
      ]
     },
     "execution_count": 10,
     "metadata": {},
     "output_type": "execute_result"
    }
   ],
   "source": [
    "h.delete((17))"
   ]
  },
  {
   "cell_type": "code",
   "execution_count": 11,
   "metadata": {},
   "outputs": [
    {
     "name": "stdout",
     "output_type": "stream",
     "text": [
      "3:[[[1, 2], 'list']]\n",
      "6:[[26, 'twentysix updated.'], [(24, 2), 'tuple text']]\n",
      "7:[[57, 'fiftyseven'], ['a', 'a'], ['blah', 'blah']]\n",
      "8:[[(1, 'a'), 'ninty eight']]\n",
      "\n"
     ]
    }
   ],
   "source": [
    "print(h)"
   ]
  },
  {
   "cell_type": "code",
   "execution_count": 12,
   "metadata": {},
   "outputs": [
    {
     "name": "stdout",
     "output_type": "stream",
     "text": [
      "fiftyseven\n"
     ]
    }
   ],
   "source": [
    "print(h.get(57))"
   ]
  },
  {
   "cell_type": "code",
   "execution_count": null,
   "metadata": {},
   "outputs": [],
   "source": []
  },
  {
   "cell_type": "code",
   "execution_count": null,
   "metadata": {},
   "outputs": [],
   "source": []
  }
 ],
 "metadata": {
  "kernelspec": {
   "display_name": "Python 3",
   "language": "python",
   "name": "python3"
  },
  "language_info": {
   "codemirror_mode": {
    "name": "ipython",
    "version": 3
   },
   "file_extension": ".py",
   "mimetype": "text/x-python",
   "name": "python",
   "nbconvert_exporter": "python",
   "pygments_lexer": "ipython3",
   "version": "3.7.3"
  }
 },
 "nbformat": 4,
 "nbformat_minor": 2
}
