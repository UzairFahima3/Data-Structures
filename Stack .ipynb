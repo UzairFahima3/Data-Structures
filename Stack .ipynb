{
 "cells": [
  {
   "cell_type": "code",
   "execution_count": 14,
   "metadata": {},
   "outputs": [],
   "source": [
    "class stack:\n",
    "    def __init__(self):\n",
    "        self.list = []\n",
    "        \n",
    "    def push(self,val):\n",
    "        self.list.append(val)\n",
    "        \n",
    "    def pop(self):\n",
    "        return self.list.pop()\n",
    "    \n",
    "    def peek(self):\n",
    "        return self.list[-1]\n"
   ]
  },
  {
   "cell_type": "code",
   "execution_count": 16,
   "metadata": {},
   "outputs": [
    {
     "name": "stdout",
     "output_type": "stream",
     "text": [
      "[5, 7]\n",
      "----\n",
      "7\n",
      "----\n",
      "5\n"
     ]
    }
   ],
   "source": [
    "s = stack()\n",
    "s.push(5)\n",
    "s.push(7)\n",
    "\n",
    "print(s.list)\n",
    "print(\"----\")\n",
    "\n",
    "print(s.pop())\n",
    "print(\"----\")\n",
    "print(s.peek())"
   ]
  },
  {
   "cell_type": "code",
   "execution_count": 55,
   "metadata": {},
   "outputs": [],
   "source": [
    "def mapping(string):\n",
    "    #print(string)\n",
    "    opening = \"{[(\"\n",
    "    closing = \"}])\"\n",
    "    \n",
    "    stack=[]\n",
    "    \n",
    "    dic = dict(zip(opening,closing))\n",
    "    \n",
    "    for c in string:\n",
    "        #print(c)\n",
    "        if c not in dic.values() and c not in dic.keys():\n",
    "            continue\n",
    "        \n",
    "        if c in dic:\n",
    "            stack.append(dic[c])\n",
    "         #   print(dic[c])\n",
    "            \n",
    "        elif len(stack) == 0 or c != stack.pop():\n",
    "            return False\n",
    "    return True"
   ]
  },
  {
   "cell_type": "code",
   "execution_count": 56,
   "metadata": {},
   "outputs": [
    {
     "data": {
      "text/plain": [
       "True"
      ]
     },
     "execution_count": 56,
     "metadata": {},
     "output_type": "execute_result"
    }
   ],
   "source": [
    "mapping(\"{[()]}\")"
   ]
  },
  {
   "cell_type": "code",
   "execution_count": null,
   "metadata": {},
   "outputs": [],
   "source": []
  }
 ],
 "metadata": {
  "kernelspec": {
   "display_name": "Python 3",
   "language": "python",
   "name": "python3"
  },
  "language_info": {
   "codemirror_mode": {
    "name": "ipython",
    "version": 3
   },
   "file_extension": ".py",
   "mimetype": "text/x-python",
   "name": "python",
   "nbconvert_exporter": "python",
   "pygments_lexer": "ipython3",
   "version": "3.7.3"
  }
 },
 "nbformat": 4,
 "nbformat_minor": 2
}
