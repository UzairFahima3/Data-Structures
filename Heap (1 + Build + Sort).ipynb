{
 "cells": [
  {
   "cell_type": "code",
   "execution_count": 1,
   "metadata": {},
   "outputs": [],
   "source": [
    "def heapify(lst, n, root):\n",
    "    largest = root\n",
    "    l = 2 * root + 1\n",
    "    r = 2 * root + 2\n",
    "    \n",
    "    if l < n and lst[l] > lst[largest]:\n",
    "        largest = l\n",
    "        \n",
    "    if r < n and lst[r] > lst[largest]:\n",
    "        largest = r\n",
    "        \n",
    "    if largest != root:\n",
    "        lst[root] , lst[largest] = lst[largest] , lst[root]\n",
    "        \n",
    "        heapify(lst,n ,largest)\n",
    "        "
   ]
  },
  {
   "cell_type": "code",
   "execution_count": 2,
   "metadata": {},
   "outputs": [],
   "source": [
    "def build_heap(lst):\n",
    "    n = len(lst)\n",
    "    print(\"length:\",n)\n",
    "    for i in reversed(range(n//2)):\n",
    "        print(\"---\")\n",
    "        heapify(lst,n,i)\n",
    "    return"
   ]
  },
  {
   "cell_type": "code",
   "execution_count": 9,
   "metadata": {},
   "outputs": [
    {
     "name": "stdout",
     "output_type": "stream",
     "text": [
      "Before :  [5, 98, 1, 2, 9, 100]\n",
      "length: 6\n",
      "---\n",
      "---\n",
      "---\n",
      "After :  [100, 98, 5, 2, 9, 1]\n"
     ]
    }
   ],
   "source": [
    "lst = [5,98,1,2,9,100]\n",
    "print(\"Before : \",lst)\n",
    "build_heap(lst)\n",
    "print(\"After : \",lst)"
   ]
  },
  {
   "cell_type": "code",
   "execution_count": 10,
   "metadata": {},
   "outputs": [],
   "source": [
    "def heap_sort(lst):\n",
    "    n = len(lst)\n",
    "    \n",
    "    build_heap(lst)\n",
    "    \n",
    "    for i in reversed(range(n)):\n",
    "        lst[i] , lst[0] = lst[0],lst[i]\n",
    "        \n",
    "        heapify(lst,i,0)"
   ]
  },
  {
   "cell_type": "code",
   "execution_count": 11,
   "metadata": {},
   "outputs": [
    {
     "name": "stdout",
     "output_type": "stream",
     "text": [
      "length: 6\n",
      "---\n",
      "---\n",
      "---\n",
      "sort :  [1, 2, 5, 9, 98, 100]\n"
     ]
    }
   ],
   "source": [
    "heap_sort(lst)\n",
    "print(\"sort : \",lst)"
   ]
  },
  {
   "cell_type": "code",
   "execution_count": null,
   "metadata": {},
   "outputs": [],
   "source": []
  },
  {
   "cell_type": "code",
   "execution_count": 8,
   "metadata": {},
   "outputs": [],
   "source": [
    "lst2 = lst\n",
    "lst.sort(reverse=True)"
   ]
  },
  {
   "cell_type": "code",
   "execution_count": 7,
   "metadata": {},
   "outputs": [
    {
     "name": "stdout",
     "output_type": "stream",
     "text": [
      "[100, 98, 9, 7, 5, 2, 1]\n"
     ]
    }
   ],
   "source": [
    "print(lst2)"
   ]
  },
  {
   "cell_type": "code",
   "execution_count": null,
   "metadata": {},
   "outputs": [],
   "source": []
  },
  {
   "cell_type": "code",
   "execution_count": null,
   "metadata": {},
   "outputs": [],
   "source": []
  }
 ],
 "metadata": {
  "kernelspec": {
   "display_name": "Python 3",
   "language": "python",
   "name": "python3"
  },
  "language_info": {
   "codemirror_mode": {
    "name": "ipython",
    "version": 3
   },
   "file_extension": ".py",
   "mimetype": "text/x-python",
   "name": "python",
   "nbconvert_exporter": "python",
   "pygments_lexer": "ipython3",
   "version": "3.7.3"
  }
 },
 "nbformat": 4,
 "nbformat_minor": 2
}
