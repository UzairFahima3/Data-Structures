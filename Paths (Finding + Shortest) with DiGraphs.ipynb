{
 "cells": [
  {
   "cell_type": "code",
   "execution_count": null,
   "metadata": {},
   "outputs": [],
   "source": [
    "#Its is used to make graph visually better."
   ]
  },
  {
   "cell_type": "code",
   "execution_count": 2,
   "metadata": {},
   "outputs": [
    {
     "name": "stdout",
     "output_type": "stream",
     "text": [
      "Requirement already satisfied: networkx in c:\\users\\dell\\anaconda3\\lib\\site-packages (2.3)\n",
      "Requirement already satisfied: decorator>=4.3.0 in c:\\users\\dell\\anaconda3\\lib\\site-packages (from networkx) (4.4.0)\n"
     ]
    }
   ],
   "source": [
    "!pip install networkx  "
   ]
  },
  {
   "cell_type": "code",
   "execution_count": 3,
   "metadata": {},
   "outputs": [],
   "source": [
    "import networkx as nx\n",
    "import matplotlib.pyplot as plt\n",
    "\n",
    "# for notebook \n",
    "%matplotlib inline \n",
    "import warnings\n",
    "warnings.filterwarnings(\"ignore\")"
   ]
  },
  {
   "cell_type": "code",
   "execution_count": null,
   "metadata": {},
   "outputs": [],
   "source": []
  },
  {
   "cell_type": "code",
   "execution_count": 1,
   "metadata": {},
   "outputs": [],
   "source": [
    "class DiGraph:\n",
    "    def __init__(self):\n",
    "        self.g = {}\n",
    "        \n",
    "    def add_nodes(self,node):\n",
    "        if node in self.g:\n",
    "            return False\n",
    "        \n",
    "        self.g[node] =[]\n",
    "        return True\n",
    "    \n",
    "    def add_edge(self, src, dst):\n",
    "        if src not in self.g:\n",
    "            return IndexError(\"Source Node Does Not Exist \")\n",
    "        \n",
    "        if dst not in self.g:\n",
    "            return IndexError(\"Destination Node Does Not Exist \")\n",
    "        \n",
    "        if dst in self.g[src]:\n",
    "            return\n",
    "        \n",
    "        self.g[src].append(dst)\n",
    "        return True\n",
    "    "
   ]
  },
  {
   "cell_type": "code",
   "execution_count": 3,
   "metadata": {},
   "outputs": [],
   "source": [
    "g = DiGraph()\n",
    "\n",
    "nodes = [\"a\",\"b\",\"c\",\"d\",\"e\",\"f\"]\n",
    "for node in nodes:\n",
    "    g.add_nodes(node)\n",
    "    \n",
    "edges = [(\"a\",\"b\"),\n",
    "         (\"a\",\"c\"),\n",
    "         (\"b\",\"c\"),\n",
    "         (\"b\",\"d\"),\n",
    "         (\"c\",\"d\"),\n",
    "         (\"d\",\"c\"),\n",
    "         (\"e\",\"f\"),\n",
    "         (\"f\",\"c\"),\n",
    "        ]\n",
    "for e in edges:\n",
    "    g.add_edge(e[0],e[1])"
   ]
  },
  {
   "cell_type": "code",
   "execution_count": 5,
   "metadata": {},
   "outputs": [
    {
     "name": "stdout",
     "output_type": "stream",
     "text": [
      "{'a': ['b', 'c'],\n",
      " 'b': ['c', 'd'],\n",
      " 'c': ['d'],\n",
      " 'd': ['c'],\n",
      " 'e': ['f'],\n",
      " 'f': ['c']}\n"
     ]
    }
   ],
   "source": [
    "import pprint\n",
    "pprint.pprint(g.g)"
   ]
  },
  {
   "cell_type": "code",
   "execution_count": 13,
   "metadata": {},
   "outputs": [],
   "source": [
    "def find_path(self, src, dst, path =[]):\n",
    "    \n",
    "    if src not in self.g or dst not in self.g:\n",
    "        return False\n",
    "    \n",
    "    path = path + [src]\n",
    "    \n",
    "    if src == dst:\n",
    "        return path\n",
    "    \n",
    "    for node in self.g[src]:\n",
    "        \n",
    "        if node not in path:\n",
    "            new_path = self.find_path(node,dst,path)\n",
    "            if new_path:\n",
    "                return new_path\n",
    "    return None\n",
    "DiGraph.find_path = find_path"
   ]
  },
  {
   "cell_type": "code",
   "execution_count": 14,
   "metadata": {},
   "outputs": [
    {
     "data": {
      "text/plain": [
       "['a', 'b', 'c', 'd']"
      ]
     },
     "execution_count": 14,
     "metadata": {},
     "output_type": "execute_result"
    }
   ],
   "source": [
    "g.find_path(\"a\",\"d\")"
   ]
  },
  {
   "cell_type": "code",
   "execution_count": 26,
   "metadata": {},
   "outputs": [],
   "source": [
    "def find_all_path(self, src , dst, path = []):\n",
    "    \n",
    "    if src not in self.g or dst not in self.g:\n",
    "        return False\n",
    "    \n",
    "    all_path =[]\n",
    "    \n",
    "    path = path +[src]\n",
    "    \n",
    "    if src == dst:\n",
    "        return [path]\n",
    "    \n",
    "    for node in self.g[src]:\n",
    "        \n",
    "        if node not in path:\n",
    "            \n",
    "            all_new_path = self.find_all_path(node,dst,path)\n",
    "            \n",
    "            for new_path in all_new_path:\n",
    "                all_path.append(new_path)\n",
    "                \n",
    "    return all_path\n",
    "DiGraph.find_all_path = find_all_path\n",
    "    "
   ]
  },
  {
   "cell_type": "code",
   "execution_count": 27,
   "metadata": {},
   "outputs": [
    {
     "data": {
      "text/plain": [
       "[['a', 'b', 'c', 'd'], ['a', 'b', 'd'], ['a', 'c', 'd']]"
      ]
     },
     "execution_count": 27,
     "metadata": {},
     "output_type": "execute_result"
    }
   ],
   "source": [
    "g.find_all_path(\"a\",\"d\")"
   ]
  },
  {
   "cell_type": "code",
   "execution_count": null,
   "metadata": {},
   "outputs": [],
   "source": [
    "def shortest_path(self, src,dst,path=[]):\n",
    "    \n",
    "    path = path + [src]\n",
    "    \n",
    "    if src ==dst:\n",
    "        return path\n",
    "    \n",
    "    shortest = None\n",
    "    \n",
    "    for node in self.g[src]:\n",
    "        \n",
    "        if node not in path:\n",
    "            new_path = self.shortest_path(node,dst,path)\n",
    "            \n",
    "            if shotest is None or len(shortest) > len(new_path):\n",
    "                shortest = new_path\n",
    "    return shortest\n",
    "\n",
    "DigGraph.shortest_path"
   ]
  }
 ],
 "metadata": {
  "kernelspec": {
   "display_name": "Python 3",
   "language": "python",
   "name": "python3"
  },
  "language_info": {
   "codemirror_mode": {
    "name": "ipython",
    "version": 3
   },
   "file_extension": ".py",
   "mimetype": "text/x-python",
   "name": "python",
   "nbconvert_exporter": "python",
   "pygments_lexer": "ipython3",
   "version": "3.7.3"
  }
 },
 "nbformat": 4,
 "nbformat_minor": 2
}
