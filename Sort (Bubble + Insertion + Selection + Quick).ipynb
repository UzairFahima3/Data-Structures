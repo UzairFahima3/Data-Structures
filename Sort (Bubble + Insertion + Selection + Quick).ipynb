{
 "cells": [
  {
   "cell_type": "code",
   "execution_count": 33,
   "metadata": {},
   "outputs": [],
   "source": [
    "class Person:\n",
    "    def __init__(self, name, age, number):\n",
    "        self.name = name\n",
    "        self.age = age\n",
    "        self.number = number\n",
    "        \n",
    "    def get_priority(self):#case for 0 and negative numbers remains\n",
    "        if self.age < 40:\n",
    "            priority = 100 - self.number\n",
    "            return priority\n",
    "        else: \n",
    "            priority = 100 - self.number\n",
    "            priority += 100\n",
    "            return priority\n",
    "        \n",
    "    def __str__(self):\n",
    "        \n",
    "        string = \"\"\n",
    "        string += self.name +\" \"+str(self.get_priority())\n",
    "        return string\n",
    "    \n",
    "    def ret_str(self):\n",
    "        string = \"\"\n",
    "        string += self.name +\" \"+str(self.get_priority())\n",
    "        return string"
   ]
  },
  {
   "cell_type": "code",
   "execution_count": 34,
   "metadata": {},
   "outputs": [],
   "source": [
    "#Bubble Sort"
   ]
  },
  {
   "cell_type": "code",
   "execution_count": 148,
   "metadata": {},
   "outputs": [
    {
     "name": "stdout",
     "output_type": "stream",
     "text": [
      "A\n"
     ]
    }
   ],
   "source": [
    "people = [ \n",
    "        Person('A', 24, 1), \n",
    "        Person('B', 32, 2), \n",
    "        Person('C', 45, 3), \n",
    "        Person('D', 22, 4), \n",
    "        Person('E', 21, 5), \n",
    "        Person('F', 32, 6), \n",
    "        Person('G', 39, 7), \n",
    "        Person('H', 44, 8), \n",
    "        Person('I', 22, 9), \n",
    "        Person('J', 29, 10), \n",
    "        Person('K', 32, 11), \n",
    "        Person('L', 31, 12) \n",
    "        ]\n",
    "print(people[0].name)"
   ]
  },
  {
   "cell_type": "code",
   "execution_count": 18,
   "metadata": {},
   "outputs": [],
   "source": [
    "def bubble_sort(lst):\n",
    "    n = len(lst)\n",
    "    \n",
    "    for i in range(n - 1):\n",
    "        for j in range( (n-i) - 1):\n",
    "            \n",
    "            if lst[j].get_priority() < lst[j+1].get_priority():\n",
    "                lst[j] , lst[j+1] = lst[j+1] , lst[j]\n",
    "                \n",
    "                "
   ]
  },
  {
   "cell_type": "code",
   "execution_count": 19,
   "metadata": {},
   "outputs": [],
   "source": [
    "bubble_sort(people)"
   ]
  },
  {
   "cell_type": "code",
   "execution_count": 36,
   "metadata": {},
   "outputs": [],
   "source": [
    "def print_people(lst):\n",
    "    for i in lst:\n",
    "        print(i.ret_str())"
   ]
  },
  {
   "cell_type": "code",
   "execution_count": 21,
   "metadata": {},
   "outputs": [
    {
     "name": "stdout",
     "output_type": "stream",
     "text": [
      "C 197\n",
      "H 192\n",
      "A 99\n",
      "B 98\n",
      "D 96\n",
      "E 95\n",
      "F 94\n",
      "G 93\n",
      "I 91\n",
      "J 90\n",
      "K 89\n",
      "L 88\n"
     ]
    }
   ],
   "source": [
    "print_people(people)"
   ]
  },
  {
   "cell_type": "code",
   "execution_count": 22,
   "metadata": {},
   "outputs": [],
   "source": [
    "#Insertion Sort"
   ]
  },
  {
   "cell_type": "code",
   "execution_count": 81,
   "metadata": {},
   "outputs": [],
   "source": [
    "def insertion_sort(lst):\n",
    "    \n",
    "    for i in range(0,len(lst)):\n",
    "        \n",
    "        key = lst[i]\n",
    "        j = i-1\n",
    "        while j >= 0 and key.get_priority() > lst[j].get_priority():\n",
    "            lst[j+1] = lst[j]\n",
    "            j = j -1\n",
    "            \n",
    "        lst[j+1] = key\n",
    "        "
   ]
  },
  {
   "cell_type": "code",
   "execution_count": 82,
   "metadata": {},
   "outputs": [],
   "source": [
    "insertion_sort(people)"
   ]
  },
  {
   "cell_type": "code",
   "execution_count": 83,
   "metadata": {},
   "outputs": [
    {
     "name": "stdout",
     "output_type": "stream",
     "text": [
      "C 197\n",
      "H 192\n",
      "A 99\n",
      "B 98\n",
      "D 96\n",
      "E 95\n",
      "F 94\n",
      "G 93\n",
      "I 91\n",
      "J 90\n",
      "K 89\n",
      "L 88\n"
     ]
    }
   ],
   "source": [
    "print_people(people)"
   ]
  },
  {
   "cell_type": "code",
   "execution_count": 76,
   "metadata": {},
   "outputs": [],
   "source": [
    "#Selection Sort"
   ]
  },
  {
   "cell_type": "code",
   "execution_count": 106,
   "metadata": {},
   "outputs": [],
   "source": [
    "def selection_sort(lst):\n",
    "    n = len(lst)\n",
    "    for i in range(n):\n",
    "        small = lst[i]\n",
    "        small_index = i\n",
    "        \n",
    "        for j in range(i+1,n):\n",
    "            if small.get_priority() > lst[j].get_priority():\n",
    "                    small =lst[j]\n",
    "                    small_index = j\n",
    "        lst[i],lst[small_index] = lst[small_index],lst[i]"
   ]
  },
  {
   "cell_type": "code",
   "execution_count": 107,
   "metadata": {},
   "outputs": [],
   "source": [
    "selection_sort(people)"
   ]
  },
  {
   "cell_type": "code",
   "execution_count": 108,
   "metadata": {},
   "outputs": [
    {
     "name": "stdout",
     "output_type": "stream",
     "text": [
      "L 88\n",
      "K 89\n",
      "J 90\n",
      "I 91\n",
      "G 93\n",
      "F 94\n",
      "E 95\n",
      "D 96\n",
      "B 98\n",
      "A 99\n",
      "H 192\n",
      "C 197\n"
     ]
    }
   ],
   "source": [
    "print_people(people)"
   ]
  },
  {
   "cell_type": "code",
   "execution_count": 109,
   "metadata": {},
   "outputs": [],
   "source": [
    "#Quick Sort"
   ]
  },
  {
   "cell_type": "code",
   "execution_count": 152,
   "metadata": {},
   "outputs": [],
   "source": [
    "import random\n",
    "def quick_sort(lst,fst,last):\n",
    "    \n",
    "    if fst >= last:\n",
    "        return\n",
    "    \n",
    "    pivot = lst[random.randint(fst,last)]\n",
    "    i = fst\n",
    "    j = last\n",
    "    \n",
    "    while i <= j:\n",
    "        \n",
    "        while lst[i].get_priority() > pivot.get_priority():\n",
    "            i += 1\n",
    "\n",
    "        while lst[j].get_priority() < pivot.get_priority():\n",
    "            j -= 1\n",
    "            \n",
    "        if i <= j:\n",
    "            lst[i],lst[j] = lst[j], lst[i]\n",
    "            i,j = i+1 , j-1\n",
    "            \n",
    "        quick_sort(lst, fst, j )\n",
    "        quick_sort(lst, i, last)"
   ]
  },
  {
   "cell_type": "code",
   "execution_count": 153,
   "metadata": {},
   "outputs": [],
   "source": [
    "quick_sort(people,0,len(people)-1)"
   ]
  },
  {
   "cell_type": "code",
   "execution_count": 154,
   "metadata": {},
   "outputs": [
    {
     "name": "stdout",
     "output_type": "stream",
     "text": [
      "C 197\n",
      "H 192\n",
      "A 99\n",
      "B 98\n",
      "D 96\n",
      "E 95\n",
      "F 94\n",
      "G 93\n",
      "I 91\n",
      "J 90\n",
      "K 89\n",
      "L 88\n"
     ]
    }
   ],
   "source": [
    "print_people(people)"
   ]
  },
  {
   "cell_type": "code",
   "execution_count": null,
   "metadata": {},
   "outputs": [],
   "source": []
  }
 ],
 "metadata": {
  "kernelspec": {
   "display_name": "Python 3",
   "language": "python",
   "name": "python3"
  },
  "language_info": {
   "codemirror_mode": {
    "name": "ipython",
    "version": 3
   },
   "file_extension": ".py",
   "mimetype": "text/x-python",
   "name": "python",
   "nbconvert_exporter": "python",
   "pygments_lexer": "ipython3",
   "version": "3.7.3"
  }
 },
 "nbformat": 4,
 "nbformat_minor": 2
}
