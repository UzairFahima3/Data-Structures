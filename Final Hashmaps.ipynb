{
 "cells": [
  {
   "cell_type": "code",
   "execution_count": 91,
   "metadata": {},
   "outputs": [],
   "source": [
    "class Hashmaps:\n",
    "    def __init__(self):\n",
    "        self.size = 10\n",
    "        self.list = [None] * self.size\n",
    "        \n",
    "    def __str__(self):\n",
    "        \n",
    "        ret = ''\n",
    "        \n",
    "        for i,item in enumerate(self.list):\n",
    "            if item is not None:\n",
    "                ret += str(i) + \":\" + str(item) + \"\\n\"\n",
    "        return ret\n",
    "   \n",
    "    def get_hash(self,key):\n",
    "        return key % self.size\n",
    "    \n",
    "    def add(self, key, value):\n",
    "        key_hash = self.get_hash(key)\n",
    "        \n",
    "        key_value = [key,value]\n",
    "        \n",
    "        if self.list[key_hash] is None:\n",
    "            \n",
    "            self.list[key_hash] = [key_value]\n",
    "            return True\n",
    "        \n",
    "        for pair in self.list[key_hash]:\n",
    "            \n",
    "            if pair[0] == key:\n",
    "                print(\"...updating\")\n",
    "                pair[1] = value\n",
    "                return True\n",
    "        self.list[key_hash].append(key_value)\n",
    "        return True\n",
    "    \n",
    "    def remove(self,key):\n",
    "        \n",
    "        key_hash = self.get_hash(key)\n",
    "        \n",
    "        if self.list[key_hash] is None:\n",
    "            return None\n",
    "        \n",
    "        for i in range(0,len(self.list[key_hash])):\n",
    "            if self.list[key_hash][i][0] == key:\n",
    "                self.list[key_hash].pop(i)        \n",
    "                return True\n",
    "            \n",
    "    def get_value(self,key):\n",
    "        \n",
    "        key_hash = self.get_hash(key)\n",
    "        \n",
    "        for pair in self.list[key_hash]:\n",
    "            print(pair)\n",
    "            if pair[0] == key:\n",
    "                print(\"***\")\n",
    "                return pair[1]\n",
    "        return None\n"
   ]
  },
  {
   "cell_type": "code",
   "execution_count": 98,
   "metadata": {},
   "outputs": [
    {
     "name": "stdout",
     "output_type": "stream",
     "text": [
      "...updating\n",
      "6:[[26, 'twentysix updated.']]\n",
      "7:[[17, 'seventeen'], [57, 'fiftyseven']]\n",
      "\n"
     ]
    }
   ],
   "source": [
    "h = Hashmaps()\n",
    "h.add(17,\"seventeen\")\n",
    "h.add(26,\"twentysix\")\n",
    "h.add(57,\"fiftyseven\")\n",
    "h.add(26,\"twentysix updated.\")\n",
    "print(h)\n"
   ]
  },
  {
   "cell_type": "code",
   "execution_count": 99,
   "metadata": {},
   "outputs": [],
   "source": [
    "#h.remove(57)"
   ]
  },
  {
   "cell_type": "code",
   "execution_count": 100,
   "metadata": {},
   "outputs": [
    {
     "name": "stdout",
     "output_type": "stream",
     "text": [
      "[17, 'seventeen']\n",
      "[57, 'fiftyseven']\n",
      "***\n",
      "fiftyseven\n"
     ]
    }
   ],
   "source": [
    "print(h.get_value(57))"
   ]
  },
  {
   "cell_type": "code",
   "execution_count": null,
   "metadata": {},
   "outputs": [],
   "source": []
  },
  {
   "cell_type": "code",
   "execution_count": null,
   "metadata": {},
   "outputs": [],
   "source": []
  },
  {
   "cell_type": "code",
   "execution_count": null,
   "metadata": {},
   "outputs": [],
   "source": []
  },
  {
   "cell_type": "code",
   "execution_count": null,
   "metadata": {},
   "outputs": [],
   "source": []
  }
 ],
 "metadata": {
  "kernelspec": {
   "display_name": "Python 3",
   "language": "python",
   "name": "python3"
  },
  "language_info": {
   "codemirror_mode": {
    "name": "ipython",
    "version": 3
   },
   "file_extension": ".py",
   "mimetype": "text/x-python",
   "name": "python",
   "nbconvert_exporter": "python",
   "pygments_lexer": "ipython3",
   "version": "3.7.3"
  }
 },
 "nbformat": 4,
 "nbformat_minor": 2
}
