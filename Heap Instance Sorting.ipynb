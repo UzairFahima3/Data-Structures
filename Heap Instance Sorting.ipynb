{
 "cells": [
  {
   "cell_type": "code",
   "execution_count": 6,
   "metadata": {},
   "outputs": [],
   "source": [
    "class Person:\n",
    "    def __init__(self, name, age, number):\n",
    "        self.name = name\n",
    "        self.age = age\n",
    "        self.number = number\n",
    "        \n",
    "    def get_priority(self):#case for 0 and negative numbers remains\n",
    "        if self.age < 40:\n",
    "            priority = 100 - self.number\n",
    "            return priority\n",
    "        else: \n",
    "            priority = 100 - self.number\n",
    "            priority += 100\n",
    "            return priority\n",
    "        \n",
    "    def __str__(self):\n",
    "        \n",
    "        string = \"\"\n",
    "        string += self.name +\" \"+str(self.get_priority())\n",
    "        return string\n",
    "    \n",
    "    def ret_str(self):\n",
    "        string = \"\"\n",
    "        string += self.name +\" \"+str(self.get_priority())\n",
    "        return string"
   ]
  },
  {
   "cell_type": "code",
   "execution_count": 7,
   "metadata": {},
   "outputs": [
    {
     "name": "stdout",
     "output_type": "stream",
     "text": [
      "99\n"
     ]
    }
   ],
   "source": [
    "p = Person(\"A\",24,1)\n",
    "l = p\n",
    "print(l.get_priority())"
   ]
  },
  {
   "cell_type": "code",
   "execution_count": 53,
   "metadata": {},
   "outputs": [],
   "source": [
    "def heapify(lst, n, root):\n",
    "    largest = root\n",
    "    l = 2 * root + 1\n",
    "    r = 2 * root + 2\n",
    "\n",
    "    \n",
    "    \n",
    "    if l < n :\n",
    "        p = lst[l]\n",
    "         \n",
    "        if p.get_priority() < lst[largest].get_priority():\n",
    "            var = lst[l]\n",
    "            largest = l        \n",
    "    if r < n :\n",
    "        if lst[r].get_priority() < lst[largest].get_priority():\n",
    "            var = lst[r]\n",
    "            largest = r\n",
    "        \n",
    "    if lst[largest].get_priority() != lst[root].get_priority():\n",
    "        lst[root] , lst[largest] = lst[largest] , lst[root]\n",
    "        \n",
    "        \n",
    "        heapify(lst,n ,largest)\n",
    "        "
   ]
  },
  {
   "cell_type": "code",
   "execution_count": 54,
   "metadata": {},
   "outputs": [],
   "source": [
    "def build_heap(lst):\n",
    "    n = len(lst)\n",
    "    print(\"length:\",n)\n",
    "    new_list=[]\n",
    "    \n",
    "    for i in reversed(range(n)):\n",
    "        print(\"---\")\n",
    "        heapify(lst,n,i)\n",
    "    return"
   ]
  },
  {
   "cell_type": "code",
   "execution_count": 55,
   "metadata": {},
   "outputs": [],
   "source": [
    "def heap_sort(lst):\n",
    "    n = len(lst)\n",
    "    \n",
    "    build_heap(lst)\n",
    "    \n",
    "    for i in reversed(range(n)):\n",
    "        lst[i] , lst[0] = lst[0],lst[i]\n",
    "        \n",
    "        heapify(lst,i,0)\n",
    "        \n",
    "    "
   ]
  },
  {
   "cell_type": "code",
   "execution_count": 56,
   "metadata": {},
   "outputs": [
    {
     "name": "stdout",
     "output_type": "stream",
     "text": [
      "[<__main__.Person object at 0x000001B1028E82E8>, <__main__.Person object at 0x000001B1028E8320>, <__main__.Person object at 0x000001B1028E8358>, <__main__.Person object at 0x000001B1028E8390>, <__main__.Person object at 0x000001B1028E83C8>, <__main__.Person object at 0x000001B1028E8400>, <__main__.Person object at 0x000001B1028E8438>, <__main__.Person object at 0x000001B1028E8470>, <__main__.Person object at 0x000001B1028E84A8>, <__main__.Person object at 0x000001B1028E84E0>, <__main__.Person object at 0x000001B1028E8518>, <__main__.Person object at 0x000001B1028E8550>]\n"
     ]
    }
   ],
   "source": [
    "people = [ \n",
    "        Person('A', 24, 1), \n",
    "        Person('B', 32, 2), \n",
    "        Person('C', 45, 3), \n",
    "        Person('D', 22, 4), \n",
    "        Person('E', 21, 5), \n",
    "        Person('F', 32, 6), \n",
    "        Person('G', 39, 7), \n",
    "        Person('H', 44, 8), \n",
    "        Person('I', 22, 9), \n",
    "        Person('J', 29, 10), \n",
    "        Person('K', 32, 11), \n",
    "        Person('L', 31, 12) \n",
    "    ]\n",
    "print(people)"
   ]
  },
  {
   "cell_type": "code",
   "execution_count": 57,
   "metadata": {},
   "outputs": [
    {
     "name": "stdout",
     "output_type": "stream",
     "text": [
      "98\n"
     ]
    }
   ],
   "source": [
    "l = people[1]\n",
    "print(l.get_priority())"
   ]
  },
  {
   "cell_type": "code",
   "execution_count": 58,
   "metadata": {},
   "outputs": [
    {
     "name": "stdout",
     "output_type": "stream",
     "text": [
      "length: 12\n",
      "---\n",
      "---\n",
      "---\n",
      "---\n",
      "---\n",
      "---\n",
      "---\n",
      "---\n",
      "---\n",
      "---\n",
      "---\n",
      "---\n"
     ]
    }
   ],
   "source": [
    "heap_sort(people)"
   ]
  },
  {
   "cell_type": "code",
   "execution_count": 59,
   "metadata": {},
   "outputs": [
    {
     "name": "stdout",
     "output_type": "stream",
     "text": [
      "[<__main__.Person object at 0x000001B1028E8358>, <__main__.Person object at 0x000001B1028E8470>, <__main__.Person object at 0x000001B1028E82E8>, <__main__.Person object at 0x000001B1028E8320>, <__main__.Person object at 0x000001B1028E8390>, <__main__.Person object at 0x000001B1028E83C8>, <__main__.Person object at 0x000001B1028E8400>, <__main__.Person object at 0x000001B1028E8438>, <__main__.Person object at 0x000001B1028E84A8>, <__main__.Person object at 0x000001B1028E84E0>, <__main__.Person object at 0x000001B1028E8518>, <__main__.Person object at 0x000001B1028E8550>]\n"
     ]
    }
   ],
   "source": [
    "print(people)"
   ]
  },
  {
   "cell_type": "code",
   "execution_count": 60,
   "metadata": {},
   "outputs": [
    {
     "name": "stdout",
     "output_type": "stream",
     "text": [
      "C 197\n",
      "H 192\n",
      "A 99\n",
      "B 98\n",
      "D 96\n",
      "E 95\n",
      "F 94\n",
      "G 93\n",
      "I 91\n",
      "J 90\n",
      "K 89\n",
      "L 88\n"
     ]
    }
   ],
   "source": [
    "for i in people:\n",
    "    p = i\n",
    "    print(p)"
   ]
  },
  {
   "cell_type": "code",
   "execution_count": null,
   "metadata": {},
   "outputs": [],
   "source": []
  }
 ],
 "metadata": {
  "kernelspec": {
   "display_name": "Python 3",
   "language": "python",
   "name": "python3"
  },
  "language_info": {
   "codemirror_mode": {
    "name": "ipython",
    "version": 3
   },
   "file_extension": ".py",
   "mimetype": "text/x-python",
   "name": "python",
   "nbconvert_exporter": "python",
   "pygments_lexer": "ipython3",
   "version": "3.7.3"
  }
 },
 "nbformat": 4,
 "nbformat_minor": 2
}
