{
 "cells": [
  {
   "cell_type": "code",
   "execution_count": 1,
   "metadata": {},
   "outputs": [],
   "source": [
    "class stack:\n",
    "    def __init__(self):\n",
    "        self.list = []\n",
    "    def push(self,val):\n",
    "        self.list.append(val)\n",
    "    def pop(self):\n",
    "        return self.list.pop()\n",
    "    def peek(self):\n",
    "        return self.list[-1]"
   ]
  },
  {
   "cell_type": "code",
   "execution_count": 2,
   "metadata": {},
   "outputs": [
    {
     "name": "stdout",
     "output_type": "stream",
     "text": [
      "2\n"
     ]
    }
   ],
   "source": [
    "s = stack()\n",
    "s.push(1)\n",
    "s.push(2)\n",
    "print(s.pop())"
   ]
  },
  {
   "cell_type": "code",
   "execution_count": 3,
   "metadata": {},
   "outputs": [],
   "source": [
    "def mapping(string):\n",
    "    opening = \"{[(\"\n",
    "    closing = \" )]}\"\n",
    "    \n",
    "    dic = dict(zip(opening,closing))\n",
    "    \n",
    "    stack = []\n",
    "    \n",
    "    for c in string:\n",
    "        if c not in opening and c not in closing:\n",
    "            continue\n",
    "            \n",
    "        if c in dic:\n",
    "            stack.append(dic[c])\n",
    "            \n",
    "        elif len(stack) == 0 or c != stack.pop():\n",
    "            return False\n",
    "        return True"
   ]
  },
  {
   "cell_type": "code",
   "execution_count": 4,
   "metadata": {},
   "outputs": [
    {
     "data": {
      "text/plain": [
       "True"
      ]
     },
     "execution_count": 4,
     "metadata": {},
     "output_type": "execute_result"
    }
   ],
   "source": [
    "mapping(\"{[()]}\")"
   ]
  },
  {
   "cell_type": "code",
   "execution_count": 5,
   "metadata": {},
   "outputs": [],
   "source": [
    "def dec_to_bin(num):\n",
    "    stack = []\n",
    "    while num != 0:\n",
    "        remainder = num % 2\n",
    "        num = num // 2\n",
    "        stack.append(remainder)\n",
    "    ans = \"\"\n",
    "    while stack:\n",
    "        ans+= str(stack.pop())\n",
    "        \n",
    "    return ans\n",
    "        "
   ]
  },
  {
   "cell_type": "code",
   "execution_count": 7,
   "metadata": {},
   "outputs": [
    {
     "name": "stdout",
     "output_type": "stream",
     "text": [
      "11\n"
     ]
    }
   ],
   "source": [
    "print(dec_to_bin(3))"
   ]
  },
  {
   "cell_type": "code",
   "execution_count": null,
   "metadata": {},
   "outputs": [],
   "source": []
  }
 ],
 "metadata": {
  "kernelspec": {
   "display_name": "Python 3",
   "language": "python",
   "name": "python3"
  },
  "language_info": {
   "codemirror_mode": {
    "name": "ipython",
    "version": 3
   },
   "file_extension": ".py",
   "mimetype": "text/x-python",
   "name": "python",
   "nbconvert_exporter": "python",
   "pygments_lexer": "ipython3",
   "version": "3.7.3"
  }
 },
 "nbformat": 4,
 "nbformat_minor": 2
}
