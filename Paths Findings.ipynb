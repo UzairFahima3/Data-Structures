{
 "cells": [
  {
   "cell_type": "code",
   "execution_count": 1,
   "metadata": {},
   "outputs": [],
   "source": [
    "import networkx as nx\n",
    "import matplotlib.pyplot as plt\n",
    "\n",
    "# for notebook \n",
    "%matplotlib inline \n",
    "import warnings\n",
    "warnings.filterwarnings(\"ignore\")"
   ]
  },
  {
   "cell_type": "code",
   "execution_count": 2,
   "metadata": {},
   "outputs": [],
   "source": [
    "class DiGraph:\n",
    "    def __init__(self):\n",
    "        self.g = {}\n",
    "        \n",
    "    def add_nodes(self,node):\n",
    "        if node in self.g:\n",
    "            return False\n",
    "        \n",
    "        self.g[node] =[]\n",
    "        return True\n",
    "    \n",
    "    def add_edge(self, src, dst):\n",
    "        if src not in self.g:\n",
    "            return IndexError(\"Source Node Does Not Exist \")\n",
    "        \n",
    "        if dst not in self.g:\n",
    "            return IndexError(\"Destination Node Does Not Exist \")\n",
    "        \n",
    "        if dst in self.g[src]:\n",
    "            return\n",
    "        \n",
    "        self.g[src].append(dst)\n",
    "        return True\n",
    "    "
   ]
  },
  {
   "cell_type": "code",
   "execution_count": 3,
   "metadata": {},
   "outputs": [],
   "source": [
    "g = DiGraph()\n",
    "\n",
    "nodes = [\"a\",\"b\",\"c\",\"d\",\"e\",\"f\"]\n",
    "for node in nodes:\n",
    "    g.add_nodes(node)\n",
    "    \n",
    "edges = [(\"a\",\"b\"),\n",
    "         (\"a\",\"c\"),\n",
    "         (\"b\",\"c\"),\n",
    "         (\"b\",\"d\"),\n",
    "         (\"c\",\"d\"),\n",
    "         (\"d\",\"c\"),\n",
    "         (\"e\",\"f\"),\n",
    "         (\"f\",\"c\"),\n",
    "        ]\n",
    "for e in edges:\n",
    "    g.add_edge(e[0],e[1])"
   ]
  },
  {
   "cell_type": "code",
   "execution_count": 4,
   "metadata": {},
   "outputs": [],
   "source": [
    "def traverse_graph(self,src):\n",
    "    \n",
    "    if src not in self.g:\n",
    "            return IndexError(\"Source Node Does Not Exist \")\n",
    "        \n",
    "    q = [src]\n",
    "    visited =[]\n",
    "    \n",
    "    while q:\n",
    "        val = q.pop(0)     #if we remove 0 in popit will give us preorder traversal\n",
    "        if val in visited:\n",
    "            continue\n",
    "            \n",
    "        print(val)\n",
    "        \n",
    "        visited.append(val)\n",
    "        \n",
    "        for node in self.g[val]:\n",
    "            q.append(node)\n",
    "            \n",
    "    return visited\n",
    "DiGraph.traverse_graph = traverse_graph"
   ]
  },
  {
   "cell_type": "code",
   "execution_count": 5,
   "metadata": {},
   "outputs": [
    {
     "name": "stdout",
     "output_type": "stream",
     "text": [
      "a\n",
      "b\n",
      "c\n",
      "d\n"
     ]
    },
    {
     "data": {
      "text/plain": [
       "['a', 'b', 'c', 'd']"
      ]
     },
     "execution_count": 5,
     "metadata": {},
     "output_type": "execute_result"
    }
   ],
   "source": [
    "g.traverse_graph(\"a\")"
   ]
  },
  {
   "cell_type": "code",
   "execution_count": 6,
   "metadata": {},
   "outputs": [],
   "source": [
    "def find_path(self, src, dst, path =[]):\n",
    "    if src not in self.g:\n",
    "            return IndexError(\"Source Node Does Not Exist \")\n",
    "        \n",
    "    if dst not in self.g:\n",
    "            return IndexError(\"Destination Node Does Not Exist \")\n",
    "        \n",
    "    path = path + [src]\n",
    "    \n",
    "    if src == dst:\n",
    "        return path\n",
    "    \n",
    "    for node in self.g[src]:\n",
    "        \n",
    "        if node not in path:\n",
    "            \n",
    "            new_path = self.find_path(node, dst, path)\n",
    "            \n",
    "            if new_path:\n",
    "                return new_path\n",
    "            \n",
    "    return None\n",
    "\n",
    "DiGraph.find_path = find_path\n",
    "        \n",
    "        "
   ]
  },
  {
   "cell_type": "code",
   "execution_count": 7,
   "metadata": {},
   "outputs": [
    {
     "data": {
      "text/plain": [
       "['a', 'b', 'c', 'd']"
      ]
     },
     "execution_count": 7,
     "metadata": {},
     "output_type": "execute_result"
    }
   ],
   "source": [
    "g.find_path(\"a\",\"d\")"
   ]
  },
  {
   "cell_type": "code",
   "execution_count": 8,
   "metadata": {},
   "outputs": [],
   "source": [
    "def find_all_paths(self, src, dst, path = []):\n",
    "    if src not in self.g:\n",
    "        return IndexError(\"Source Node Does Not Exist \")\n",
    "        \n",
    "    if dst not in self.g:\n",
    "        return IndexError(\"Destination Node Does Not Exist \")\n",
    "    \n",
    "    all_paths = []\n",
    "    path = path + [src]\n",
    "    \n",
    "    if src == dst:\n",
    "        return [path]\n",
    "    \n",
    "    for node in self.g[src]:\n",
    "        \n",
    "        if node not in path:\n",
    "            \n",
    "            all_new_path = self.find_all_paths(node, dst, path)\n",
    "            \n",
    "            for new_path in all_new_path:\n",
    "                all_paths.append(new_path)\n",
    "                \n",
    "    return all_paths\n",
    "\n",
    "DiGraph.find_all_paths = find_all_paths            "
   ]
  },
  {
   "cell_type": "code",
   "execution_count": 9,
   "metadata": {},
   "outputs": [
    {
     "data": {
      "text/plain": [
       "[['a', 'b', 'c', 'd'], ['a', 'b', 'd'], ['a', 'c', 'd']]"
      ]
     },
     "execution_count": 9,
     "metadata": {},
     "output_type": "execute_result"
    }
   ],
   "source": [
    "g.find_all_paths(\"a\",\"d\")"
   ]
  },
  {
   "cell_type": "code",
   "execution_count": 10,
   "metadata": {},
   "outputs": [],
   "source": [
    "def find_shortest_path(self, src, dst, path=[]):\n",
    "    \n",
    "    if src not in self.g:\n",
    "        return IndexError(\"Source Node Does Not Exist \")\n",
    "        \n",
    "    if dst not in self.g:\n",
    "        return IndexError(\"Destination Node Does Not Exist \")\n",
    "        \n",
    "    \n",
    "    path = path + [src]\n",
    "   \n",
    "    shortest = None\n",
    "\n",
    "    if src == dst:\n",
    "        return path\n",
    "    \n",
    "    for node in self.g[src]:\n",
    "        \n",
    "        if node not in path:\n",
    "            \n",
    "            new_path = self.find_shortest_path(node,dst,path)\n",
    "            \n",
    "            if shortest is None or len(shortest) > len(new_path):\n",
    "                shortest = new_path\n",
    "    \n",
    "    return shortest\n",
    "\n",
    "DiGraph.find_shortest_path = find_shortest_path"
   ]
  },
  {
   "cell_type": "code",
   "execution_count": 27,
   "metadata": {},
   "outputs": [
    {
     "data": {
      "text/plain": [
       "['a', 'b', 'd']"
      ]
     },
     "execution_count": 27,
     "metadata": {},
     "output_type": "execute_result"
    }
   ],
   "source": [
    "g.find_shortest_path(\"a\",\"d\")"
   ]
  },
  {
   "cell_type": "code",
   "execution_count": 31,
   "metadata": {},
   "outputs": [
    {
     "data": {
      "text/plain": [
       "3"
      ]
     },
     "execution_count": 31,
     "metadata": {},
     "output_type": "execute_result"
    }
   ],
   "source": [
    "l = [1,2,3]\n",
    "l.pop()"
   ]
  },
  {
   "cell_type": "code",
   "execution_count": 32,
   "metadata": {},
   "outputs": [
    {
     "name": "stdout",
     "output_type": "stream",
     "text": [
      "[1, 2]\n"
     ]
    }
   ],
   "source": [
    "print(l)"
   ]
  },
  {
   "cell_type": "code",
   "execution_count": null,
   "metadata": {},
   "outputs": [],
   "source": []
  }
 ],
 "metadata": {
  "kernelspec": {
   "display_name": "Python 3",
   "language": "python",
   "name": "python3"
  },
  "language_info": {
   "codemirror_mode": {
    "name": "ipython",
    "version": 3
   },
   "file_extension": ".py",
   "mimetype": "text/x-python",
   "name": "python",
   "nbconvert_exporter": "python",
   "pygments_lexer": "ipython3",
   "version": "3.7.3"
  }
 },
 "nbformat": 4,
 "nbformat_minor": 2
}
