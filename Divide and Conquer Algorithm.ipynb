{
 "cells": [
  {
   "cell_type": "code",
   "execution_count": 1,
   "metadata": {},
   "outputs": [],
   "source": [
    "def to_equalize_number(num):\n",
    "    \n",
    "    list1 = list(str(num))\n",
    "    if len(list1) % 2 != 0:\n",
    "        list1.insert(0,\"0\")\n",
    "    return list1"
   ]
  },
  {
   "cell_type": "code",
   "execution_count": 2,
   "metadata": {},
   "outputs": [],
   "source": [
    "def extract(l1):\n",
    "    new_list =[]\n",
    "    even = 1\n",
    "    ans = \"\"\n",
    "    for num in l1:\n",
    "        ans += num\n",
    "        if even % 2 == 0:\n",
    "            new_list.append(int(ans))\n",
    "            ans = \"\"\n",
    "            even = 0\n",
    "        even += 1\n",
    "    return new_list"
   ]
  },
  {
   "cell_type": "code",
   "execution_count": 3,
   "metadata": {},
   "outputs": [],
   "source": [
    "def multiply(l1,l2):\n",
    "    l = []\n",
    "    length_l1 = len(l1)\n",
    "    for n1 in l1:\n",
    "        length_l2 = len(l2)\n",
    "\n",
    "        length_l1 -= 1\n",
    "        for n2 in l2:\n",
    "            \n",
    "            ans = n1 * n2\n",
    "            length_l2 -= 1\n",
    "            zero1 = zero(length_l1,length_l2)\n",
    "            ans = ans * zero1\n",
    "            l.append(ans)\n",
    "            \n",
    "    return l"
   ]
  },
  {
   "cell_type": "code",
   "execution_count": 4,
   "metadata": {},
   "outputs": [],
   "source": [
    "def zero (length_l1 , length_l2):\n",
    "    z = \"1\"\n",
    "    for i in range(length_l1):\n",
    "        z += \"00\"\n",
    "    for j in range(length_l2):\n",
    "        z += \"00\"\n",
    "    return int(z)"
   ]
  },
  {
   "cell_type": "code",
   "execution_count": 23,
   "metadata": {},
   "outputs": [],
   "source": [
    "def divide_and_conquer(num1 , num2):\n",
    "    \n",
    "    if type(num1) == str or type(num2) == str:\n",
    "        raise ValueError(\"Only Integers can be multiply\")\n",
    "    \n",
    "    n1 = to_equalize_number(num1)\n",
    "    n2 = to_equalize_number(num2)\n",
    "    \n",
    "    print(n1)\n",
    "    print(n2)\n",
    "    print(\"-----\")\n",
    "    \n",
    "    n1 = extract(n1)\n",
    "    n2 = extract(n2)\n",
    "    \n",
    "    print(n1)\n",
    "    print(n2)\n",
    "    print(\"******\")\n",
    "    \n",
    "    solution = multiply(n1, n2)\n",
    "    sol = 0\n",
    "    print(solution)\n",
    "    \n",
    "    print(\"$$$$$$$\")\n",
    "    \n",
    "    for ans in solution:\n",
    "        \n",
    "        sol +=  ans\n",
    "        \n",
    "    return sol"
   ]
  },
  {
   "cell_type": "code",
   "execution_count": 24,
   "metadata": {},
   "outputs": [
    {
     "name": "stdout",
     "output_type": "stream",
     "text": [
      "['0', '9', '8', '1']\n",
      "['1', '2', '3', '4']\n",
      "-----\n",
      "[9, 81]\n",
      "[12, 34]\n",
      "******\n",
      "[1080000, 30600, 97200, 2754]\n",
      "$$$$$$$\n",
      "Ans :  1210554\n"
     ]
    }
   ],
   "source": [
    "print(\"Ans : \",divide_and_conquer( 981, 1234))"
   ]
  },
  {
   "cell_type": "code",
   "execution_count": null,
   "metadata": {},
   "outputs": [],
   "source": []
  },
  {
   "cell_type": "code",
   "execution_count": null,
   "metadata": {},
   "outputs": [],
   "source": []
  }
 ],
 "metadata": {
  "kernelspec": {
   "display_name": "Python 3",
   "language": "python",
   "name": "python3"
  },
  "language_info": {
   "codemirror_mode": {
    "name": "ipython",
    "version": 3
   },
   "file_extension": ".py",
   "mimetype": "text/x-python",
   "name": "python",
   "nbconvert_exporter": "python",
   "pygments_lexer": "ipython3",
   "version": "3.7.3"
  }
 },
 "nbformat": 4,
 "nbformat_minor": 2
}
