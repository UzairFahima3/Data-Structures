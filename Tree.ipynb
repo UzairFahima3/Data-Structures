{
 "cells": [
  {
   "cell_type": "code",
   "execution_count": 37,
   "metadata": {},
   "outputs": [
    {
     "name": "stdout",
     "output_type": "stream",
     "text": [
      "16\n",
      "26\n",
      "6\n",
      "17\n",
      "27\n",
      "7\n",
      "5\n"
     ]
    }
   ],
   "source": [
    "class Tree:\n",
    "    def __init__(self,val):\n",
    "        \n",
    "        self.val = val\n",
    "        self.left = None\n",
    "        self.right = None\n",
    "        \n",
    "    def __str__(self):\n",
    "        return str(self.val)\n",
    "    \n",
    "    def inorder(self):\n",
    "        \n",
    "        if self.left:\n",
    "            self.left.inorder()\n",
    "        \n",
    "        if self.right:\n",
    "            self.right.inorder()\n",
    "        \n",
    "        print (self.val)\n",
    "        return\n",
    "            \n",
    "t = Tree(5)\n",
    "t.left =  Tree(6)\n",
    "t.right = Tree(7)\n",
    "t.left.left =   Tree(16)\n",
    "t.left.right =  Tree(26)\n",
    "t.right.left =  Tree(17)\n",
    "t.right.right = Tree(27)\n",
    "\n",
    "t.inorder()"
   ]
  },
  {
   "cell_type": "code",
   "execution_count": 38,
   "metadata": {},
   "outputs": [],
   "source": [
    "def preorder(self):\n",
    "        \n",
    "    print (self.val)\n",
    "   \n",
    "    if self.left:\n",
    "        self.left.preorder()\n",
    "        \n",
    "    if self.right:\n",
    "        self.right.preorder()\n",
    "    return    \n",
    "Tree.preorder = preorder"
   ]
  },
  {
   "cell_type": "code",
   "execution_count": 39,
   "metadata": {},
   "outputs": [],
   "source": [
    "def postorder(self):\n",
    "        \n",
    "    if self.left:\n",
    "        self.left.postorder()\n",
    "        \n",
    "    print (self.val)\n",
    "       \n",
    "    if self.right:\n",
    "        self.right.postorder()\n",
    "    return   \n",
    "Tree.postorder = postorder"
   ]
  },
  {
   "cell_type": "code",
   "execution_count": 49,
   "metadata": {},
   "outputs": [],
   "source": [
    "'''bfs'''\n",
    "def bfs(self):\n",
    "    visited = []\n",
    "    visited.append(self.val)\n",
    "    print(visited.pop(0))\n",
    "    visited.append(1)\n",
    "    l = self.left\n",
    "    r = self.right\n",
    "    while visited:\n",
    "        \n",
    "        if l:\n",
    "            visited.append(l.val)\n",
    "            print(visited.pop(-1))\n",
    "            l = l.left\n",
    "        \n",
    "        if r:\n",
    "            visited.append(r.val)\n",
    "            print(visited.pop(-1))\n",
    "            r = r.right\n",
    "        if l is None and r is None:\n",
    "                  \n",
    "                break\n",
    "    return\n",
    "Tree.bfs = bfs"
   ]
  },
  {
   "cell_type": "code",
   "execution_count": 50,
   "metadata": {},
   "outputs": [
    {
     "name": "stdout",
     "output_type": "stream",
     "text": [
      "5\n",
      "6\n",
      "7\n",
      "16\n",
      "27\n"
     ]
    }
   ],
   "source": [
    "t.bfs()"
   ]
  },
  {
   "cell_type": "code",
   "execution_count": null,
   "metadata": {},
   "outputs": [],
   "source": []
  }
 ],
 "metadata": {
  "kernelspec": {
   "display_name": "Python 3",
   "language": "python",
   "name": "python3"
  },
  "language_info": {
   "codemirror_mode": {
    "name": "ipython",
    "version": 3
   },
   "file_extension": ".py",
   "mimetype": "text/x-python",
   "name": "python",
   "nbconvert_exporter": "python",
   "pygments_lexer": "ipython3",
   "version": "3.7.3"
  }
 },
 "nbformat": 4,
 "nbformat_minor": 2
}
