{
 "cells": [
  {
   "cell_type": "code",
   "execution_count": 4,
   "metadata": {},
   "outputs": [],
   "source": [
    "class DiGraph:\n",
    "    def __init__(self):\n",
    "        self.g = {}\n",
    "        \n",
    "    def add_node(self,node):\n",
    "        self.g[node] = []\n",
    "        \n",
    "    def add_edge(self, src, dst):\n",
    "        \n",
    "        dic = self.g\n",
    "        if src not in dic and dst not in dic:\n",
    "            return False\n",
    "        \n",
    "        if dst in self.g[src]:\n",
    "            return\n",
    "        \n",
    "        dic[src].append(dst)\n",
    "        return True\n",
    "    \n",
    "    def __str__(self):\n",
    "        return self.g"
   ]
  },
  {
   "cell_type": "code",
   "execution_count": 5,
   "metadata": {},
   "outputs": [
    {
     "data": {
      "text/plain": [
       "True"
      ]
     },
     "execution_count": 5,
     "metadata": {},
     "output_type": "execute_result"
    }
   ],
   "source": [
    "d = DiGraph()\n",
    "#Adding Nodes\n",
    "d.add_node(\"a\")\n",
    "d.add_node(\"b\")\n",
    "d.add_node(\"c\")\n",
    "d.add_node(\"d\")\n",
    "d.add_node(\"e\")\n",
    "d.add_node(\"f\")\n",
    "#Adding Edges\n",
    "d.add_edge(\"a\",\"b\")\n",
    "d.add_edge(\"a\",\"c\")\n",
    "d.add_edge(\"b\",\"d\")\n",
    "d.add_edge(\"c\",\"e\")\n",
    "d.add_edge(\"c\",\"f\")"
   ]
  },
  {
   "cell_type": "code",
   "execution_count": 6,
   "metadata": {},
   "outputs": [
    {
     "name": "stdout",
     "output_type": "stream",
     "text": [
      "{'a': ['b', 'c'], 'b': ['d'], 'c': ['e', 'f'], 'd': [], 'e': [], 'f': []}\n"
     ]
    }
   ],
   "source": [
    "print(d.__str__())"
   ]
  },
  {
   "cell_type": "code",
   "execution_count": null,
   "metadata": {},
   "outputs": [],
   "source": []
  }
 ],
 "metadata": {
  "kernelspec": {
   "display_name": "Python 3",
   "language": "python",
   "name": "python3"
  },
  "language_info": {
   "codemirror_mode": {
    "name": "ipython",
    "version": 3
   },
   "file_extension": ".py",
   "mimetype": "text/x-python",
   "name": "python",
   "nbconvert_exporter": "python",
   "pygments_lexer": "ipython3",
   "version": "3.7.3"
  }
 },
 "nbformat": 4,
 "nbformat_minor": 2
}
